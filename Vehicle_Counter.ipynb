{
 "cells": [
  {
   "cell_type": "code",
   "execution_count": 1,
   "metadata": {},
   "outputs": [],
   "source": [
    "# import the essential libraries\n",
    "import cv2\n",
    "import numpy as np\n",
    "from time import sleep\n",
    "import os"
   ]
  },
  {
   "cell_type": "code",
   "execution_count": 2,
   "metadata": {},
   "outputs": [],
   "source": [
    "y1 = 600\n",
    "offset = 5\n",
    "width = 50\n",
    "height = 50\n",
    "detect = []\n",
    "cars = 0\n",
    "capWidth = 1080\n",
    "capHeight = 720\n",
    "def get_center(x, y, w, h):\n",
    "    x1 = int(w/2)\n",
    "    y1 = int(h/2)\n",
    "    cx = x+x1\n",
    "    cy = y+y1\n",
    "    return cx, cy"
   ]
  },
  {
   "cell_type": "code",
   "execution_count": null,
   "metadata": {},
   "outputs": [],
   "source": [
    "cap = cv2.VideoCapture(\"Traffic - 27260.mp4\")\n",
    "# This class implements the Gaussian mixture model background subtraction\n",
    "BGS = cv2.createBackgroundSubtractorMOG2(history=40, varThreshold=60, detectShadows=False)\n",
    "forcc = cv2.VideoWriter_fourcc(*'mp4v')\n",
    "writer = cv2.VideoWriter('cars.mp4', forcc, 30, (capWidth, capHeight))\n",
    "\n",
    "while cap.isOpened():\n",
    "    rate, frame = cap.read()\n",
    "    if rate:\n",
    "        frame = cv2.resize(frame, (capWidth, capHeight))\n",
    "        grayFrame = cv2.cvtColor(frame, cv2.COLOR_BGR2GRAY)\n",
    "        blur = cv2.GaussianBlur(grayFrame, (5, 5), 5)\n",
    "        img_sub = BGS.apply(blur)\n",
    "        ret, thresh = cv2.threshold(img_sub, 30, 255, cv2.THRESH_BINARY)\n",
    "        dilat = cv2.dilate(thresh, np.ones((8, 8)))\n",
    "\n",
    "        contur, h = cv2.findContours(dilat, cv2.RETR_TREE, cv2.CHAIN_APPROX_SIMPLE)\n",
    "\n",
    "        cv2.line(frame, (20, y1), (1050, y1), (177, 130, 40), 3)\n",
    "\n",
    "        for i, c in enumerate(contur):\n",
    "            x, y, w, h = cv2.boundingRect(c)\n",
    "\n",
    "            if w >= width and h>= height:\n",
    "                cv2.rectangle(frame, (x, y), (x+w, y+h), (0, 255, 0), 2)\n",
    "                center = get_center(x, y, w, h)\n",
    "                detect.append(center)\n",
    "                cv2.circle(frame, center, 4, (0, 0, 255), -1)\n",
    "\n",
    "                for x, y in detect:\n",
    "                    if y < (y1+offset) and y > (y1-offset):\n",
    "                        cars+=1\n",
    "                        cv2.line(frame, (20, y1), (1050, y1), (0, 127, 255), 3)\n",
    "                        detect.remove((x, y))\n",
    "                        # print('Number of cars detected : '+str(cars))\n",
    "\n",
    "        cv2.putText(frame, 'NUMBER OF VEHICLE : '+str(cars), (50, 70), cv2.FONT_HERSHEY_SIMPLEX,2 , (200, 50, 100), 3)\n",
    "        writer.write(frame)\n",
    "        # cv2.imshow('imag_sub', dilat)\n",
    "        cv2.imshow('frame', frame)\n",
    "        k = cv2.waitKey(40)\n",
    "        if k == 27:\n",
    "            break\n",
    "    else:\n",
    "        break\n",
    "writer.release()\n",
    "cap.release()\n",
    "cv2.destroyAllWindows()"
   ]
  }
 ],
 "metadata": {
  "kernelspec": {
   "display_name": "Python 3.10.6 64-bit",
   "language": "python",
   "name": "python3"
  },
  "language_info": {
   "codemirror_mode": {
    "name": "ipython",
    "version": 3
   },
   "file_extension": ".py",
   "mimetype": "text/x-python",
   "name": "python",
   "nbconvert_exporter": "python",
   "pygments_lexer": "ipython3",
   "version": "3.10.6"
  },
  "orig_nbformat": 4,
  "vscode": {
   "interpreter": {
    "hash": "26de051ba29f2982a8de78e945f0abaf191376122a1563185a90213a26c5da77"
   }
  }
 },
 "nbformat": 4,
 "nbformat_minor": 2
}
